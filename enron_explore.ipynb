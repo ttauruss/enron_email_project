{
 "cells": [
  {
   "cell_type": "code",
   "execution_count": 93,
   "metadata": {},
   "outputs": [
    {
     "name": "stdout",
     "output_type": "stream",
     "text": [
      "The size of the dataset is 146\n",
      "The number of POIs is 18\n",
      "Number of people with NaN in total_payments is 21\n",
      "Number of POIs with NaN in total_payments is 0\n"
     ]
    }
   ],
   "source": [
    "from IPython.display import display\n",
    "import pandas as pd\n",
    "import pickle\n",
    "from feature_format import featureFormat\n",
    "enron_data = pickle.load(open(\"final_project_dataset.pkl\", \"r\"))\n",
    "df = pd.DataFrame(enron_data).transpose()\n",
    "size = df.shape[0]\n",
    "print('The size of the dataset is ' + str(size))\n",
    "num_poi = df[df['poi'] == True].shape[0]\n",
    "print('The number of POIs is ' + str(num_poi))\n",
    "total_stock = df.loc['PRENTICE JAMES'].total_stock_value\n",
    "emails_to_poi = df.loc['COLWELL WESLEY'].from_this_person_to_poi\n",
    "stock_exercised = df.loc['SKILLING JEFFREY K'].exercised_stock_options\n",
    "#for idx, row in df.iterrows():\n",
    "#    print(row.name)\n",
    "total = df.loc['LAY KENNETH L'].total_payments\n",
    "total = max(total, df.loc['FASTOW ANDREW S'].total_payments)\n",
    "total = max(total, df.loc['SKILLING JEFFREY K'].total_payments)\n",
    "num_known_salary = df[df['salary'] != 'NaN'].shape[0]\n",
    "num_known_email = df[df['email_address'] != 'NaN'].shape[0]\n",
    "\n",
    "df_poi = df[df['poi'] == True]\n",
    "total_payments_nan = df[df['total_payments'] == 'NaN'].shape[0]\n",
    "print('Number of people with NaN in total_payments is ' + str(total_payments_nan))\n",
    "poi_total_payments_nan = df_poi[df_poi['total_payments'] == 'NaN'].shape[0]\n",
    "print('Number of POIs with NaN in total_payments is ' + str(poi_total_payments_nan))\n",
    "#float(poi_total_payments_nan) / num_poi\n",
    "#enron_data\n",
    "#arr = featureFormat(enron_data, ['salary', 'poi'])\n",
    "#arr"
   ]
  }
 ],
 "metadata": {
  "kernelspec": {
   "display_name": "Python 2",
   "language": "python",
   "name": "python2"
  },
  "language_info": {
   "codemirror_mode": {
    "name": "ipython",
    "version": 2
   },
   "file_extension": ".py",
   "mimetype": "text/x-python",
   "name": "python",
   "nbconvert_exporter": "python",
   "pygments_lexer": "ipython2",
   "version": "2.7.13"
  }
 },
 "nbformat": 4,
 "nbformat_minor": 2
}
